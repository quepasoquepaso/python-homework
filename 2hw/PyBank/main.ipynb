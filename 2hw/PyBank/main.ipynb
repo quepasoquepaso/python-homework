{
 "metadata": {
  "language_info": {
   "codemirror_mode": {
    "name": "ipython",
    "version": 3
   },
   "file_extension": ".py",
   "mimetype": "text/x-python",
   "name": "python",
   "nbconvert_exporter": "python",
   "pygments_lexer": "ipython3",
   "version": "3.8.3-final"
  },
  "orig_nbformat": 2,
  "kernelspec": {
   "name": "Python 3.8.3 64-bit ('base')",
   "display_name": "Python 3.8.3 64-bit ('base')",
   "metadata": {
    "interpreter": {
     "hash": "1ce42f2a1b6c49df64617f43cb84098b959f9d3ffde7519dca872c4c98b39199"
    }
   }
  }
 },
 "nbformat": 4,
 "nbformat_minor": 2,
 "cells": [
  {
   "cell_type": "code",
   "execution_count": 17,
   "metadata": {},
   "outputs": [
    {
     "output_type": "error",
     "ename": "FileNotFoundError",
     "evalue": "[Errno 2] No such file or directory: '../Resources/budget_data.csv'",
     "traceback": [
      "\u001b[0;31m---------------------------------------------------------------------------\u001b[0m",
      "\u001b[0;31mFileNotFoundError\u001b[0m                         Traceback (most recent call last)",
      "\u001b[0;32m<ipython-input-17-b0f18cee67f5>\u001b[0m in \u001b[0;36m<module>\u001b[0;34m\u001b[0m\n\u001b[1;32m     44\u001b[0m \u001b[0;34m\u001b[0m\u001b[0m\n\u001b[1;32m     45\u001b[0m \u001b[0mfilepath\u001b[0m \u001b[0;34m=\u001b[0m \u001b[0mPath\u001b[0m\u001b[0;34m(\u001b[0m\u001b[0;34m'../Resources/budget_data.csv'\u001b[0m\u001b[0;34m)\u001b[0m\u001b[0;34m\u001b[0m\u001b[0;34m\u001b[0m\u001b[0m\n\u001b[0;32m---> 46\u001b[0;31m \u001b[0;32mwith\u001b[0m \u001b[0mopen\u001b[0m\u001b[0;34m(\u001b[0m\u001b[0mfilepath\u001b[0m\u001b[0;34m,\u001b[0m \u001b[0;34m\"r\"\u001b[0m\u001b[0;34m)\u001b[0m \u001b[0;32mas\u001b[0m \u001b[0mcsvfile\u001b[0m\u001b[0;34m:\u001b[0m\u001b[0;34m\u001b[0m\u001b[0;34m\u001b[0m\u001b[0m\n\u001b[0m\u001b[1;32m     47\u001b[0m     \u001b[0;31m#print(type(csvfile))\u001b[0m\u001b[0;34m\u001b[0m\u001b[0;34m\u001b[0m\u001b[0;34m\u001b[0m\u001b[0m\n\u001b[1;32m     48\u001b[0m     \u001b[0mprint\u001b[0m\u001b[0;34m(\u001b[0m\u001b[0mcsv\u001b[0m\u001b[0;34m.\u001b[0m\u001b[0mreader\u001b[0m\u001b[0;34m(\u001b[0m\u001b[0mcsvfile\u001b[0m\u001b[0;34m)\u001b[0m\u001b[0;34m)\u001b[0m\u001b[0;34m\u001b[0m\u001b[0;34m\u001b[0m\u001b[0m\n",
      "\u001b[0;31mFileNotFoundError\u001b[0m: [Errno 2] No such file or directory: '../Resources/budget_data.csv'"
     ]
    }
   ],
   "source": [
    "#James Eifler\n",
    "#9/24/19 10:59pm MDT (started)\n",
    "# (ended)\n",
    "###########################################\n",
    "\n",
    "#Self goals:\n",
    "# Iron out any and all kinks I may have with accessing/using github/gitlab, my Code setup, etc.\n",
    "# Organize my new Mac and get more familiar with it - last Mac I had used a PowerPC chip - a lot has changed, not everything though\n",
    "# Thinking | Planning | Aniticipating what it is I'm trying to do\n",
    "# Continue thinking in Python and how much easier it is to do stuff!\n",
    "###########################################\n",
    "\n",
    "#Actual instructions:\n",
    "#Your task is to create a Python script that analyzes the records to calculate each of the following:\n",
    "\n",
    "#The total number of months included in the dataset.\n",
    "\n",
    "#The net total amount of Profit/Losses over the entire period.\n",
    "\n",
    "#The average of the changes in Profit/Losses over the entire period.\n",
    "\n",
    "#The greatest increase in profits (date and amount) over the entire period.\n",
    "\n",
    "#The greatest decrease in losses (date and amount) over the entire period.\n",
    "\n",
    "#Your final script should print the analysis to the terminal and export a text file with the results.\n",
    "###########################################\n",
    "\n",
    "#Psuedo:\n",
    "#. Get files\n",
    "#. Read data\n",
    "#. Manipulate data\n",
    "#. Organize & address issues\n",
    "#. Perform calculations, listed in instructions\n",
    "#. Print analysis to terminal and export as text file with results\n",
    "\n",
    "#import numpy_financial as npf\n",
    "#from pathlib import Path\n",
    "#filepath = Path(\"\"/Resources/\"budget_data.csv\")\n",
    "\n",
    "#open(\"/Resources/\"budget_data.csv\", \"r\") as file: budget\n",
    "from pathlib import Path\n",
    "import csv\n",
    "\n",
    "filepath = Path('../Resources/budget_data.csv')\n",
    "with open(filepath, \"r\") as csvfile:\n",
    "    #print(type(csvfile))\n",
    "    print(csv.reader(csvfile))\n",
    "\n",
    "\n",
    "bank_account = 10000\n",
    "if bank_account < 500:\n",
    "    print(\"I need to get paid!\")\n",
    "else:\n",
    "    print(\"We gon make it.\")\n",
    "\n",
    "print(\"always prints\")\n",
    "\n",
    "\n",
    "accident = Trueat_fault = False\n",
    "if accident:\n",
    "        if at_fault:\n",
    "            if accident_forgiveness:\n",
    "                increase_insurance _premium = False\n",
    "        else:\n",
    "            if elite_status:\n",
    "                increase_insurance_premium = False\n",
    "\n",
    "#lists\n",
    "\n",
    "fruits = [\"apple\", \"mango\", \"banana, \"guanabana\", \"kiwi\", \"dragonfruit\"]\n",
    "\n",
    "print(fruits[2:])\n",
    "prtint(fruits[:4])\n",
    "\n",
    "#start:\n",
    "#:end\n",
    "#start:end:step"
   ]
  },
  {
   "cell_type": "code",
   "execution_count": null,
   "metadata": {},
   "outputs": [],
   "source": []
  },
  {
   "cell_type": "code",
   "execution_count": null,
   "metadata": {},
   "outputs": [],
   "source": []
  }
 ]
}