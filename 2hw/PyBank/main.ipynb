{
 "metadata": {
  "language_info": {
   "codemirror_mode": {
    "name": "ipython",
    "version": 3
   },
   "file_extension": ".py",
   "mimetype": "text/x-python",
   "name": "python",
   "nbconvert_exporter": "python",
   "pygments_lexer": "ipython3",
   "version": "3.8.3-final"
  },
  "orig_nbformat": 2,
  "kernelspec": {
   "name": "Python 3.8.3 64-bit ('base': conda)",
   "display_name": "Python 3.8.3 64-bit ('base': conda)",
   "metadata": {
    "interpreter": {
     "hash": "1ce42f2a1b6c49df64617f43cb84098b959f9d3ffde7519dca872c4c98b39199"
    }
   }
  }
 },
 "nbformat": 4,
 "nbformat_minor": 2,
 "cells": [
  {
   "cell_type": "code",
   "execution_count": 164,
   "metadata": {
    "tags": []
   },
   "outputs": [
    {
     "output_type": "stream",
     "name": "stdout",
     "text": "Total Months:86\ndict_values([['867884'], ['984655'], ['322013'], ['-69417'], ['310503'], ['522857'], ['1033096'], ['604885'], ['-216386'], ['477532'], ['893810'], ['-80353'], ['779806'], ['-335203'], ['697845'], ['793163'], ['485070'], ['584122'], ['62729'], ['668179'], ['899906'], ['834719'], ['132003'], ['309978'], ['-755566'], ['1170593'], ['252788'], ['1151518'], ['817256'], ['570757'], ['506702'], ['-1022534'], ['475062'], ['779976'], ['144175'], ['542494'], ['359333'], ['321469'], ['67780'], ['471435'], ['565603'], ['872480'], ['789480'], ['999942'], ['-1196225'], ['268997'], ['-687986'], ['1150461'], ['682458'], ['617856'], ['824098'], ['581943'], ['132864'], ['448062'], ['689161'], ['800701'], ['1166643'], ['947333'], ['578668'], ['988505'], ['1139715'], ['1029471'], ['687533'], ['-524626'], ['158620'], ['87795'], ['423389'], ['840723'], ['568529'], ['332067'], ['989499'], ['778237'], ['650000'], ['-1100387'], ['-174946'], ['757143'], ['445709'], ['712961'], ['-1163797'], ['569899'], ['768450'], ['102685'], ['795914'], ['60988'], ['138230'], ['671099']])\nTotal Profit/Losses: 0\n"
    }
   ],
   "source": [
    "#James Eifler\n",
    "#9/24/20 10:59pm MDT (started)\n",
    "#9/29/20 1:31am MDT (ended)\n",
    "###########################################\n",
    "\n",
    "#Actual instructions:\n",
    "#Your task is to create a Python script that analyzes the records to calculate each of the following\n",
    "#The total number of months included in the dataset.\n",
    "#The net total amount of Profit/Losses over the entire period.\n",
    "#The average of the changes in Profit/Losses over the entire period.\n",
    "#The greatest increase in profits (date and amount) over the entire period.\n",
    "#The greatest decrease in losses (date and amount) over the entire period.\n",
    "#Your final script should print the analysis to the terminal and export a text file with the results.\n",
    "###########################################\n",
    "\n",
    "#Psuedo:\n",
    "#. Get file\n",
    "#. Read data\n",
    "#. Manipulate data\n",
    "#. Organize & address issues\n",
    "#. Perform calculations, listed in instructions\n",
    "#. Print analysis to terminal and export as text file with results (new file)\n",
    "#####################################################################################################\n",
    "\n",
    "\n",
    "\n",
    "# Import the pathlib and csv and numpy_financial libraries\n",
    "from pathlib import Path\n",
    "import csv\n",
    "import numpy_financial as npf\n",
    "\n",
    "# Set the file path\n",
    "filepath = Path(\"Resources/budget_data.csv\")\n",
    "\n",
    "# Initialize list of records\n",
    "records = []\n",
    "\n",
    "# Initialize list of totpnl ##did not use, don't think I need this\n",
    "#list_totpnl = []\n",
    "\n",
    "# Initialize total profit and losses\n",
    "tot_pnl = 0\n",
    "\n",
    "# Open the csv file as an object\n",
    "with open(filepath, \"r\") as csvfile:\n",
    "    csvreader = csv.reader(csvfile, delimiter=',')\n",
    "\n",
    "    # Read the header row first (skip this step if there is no header)\n",
    "    csv_header = next(csvreader)\n",
    "\n",
    "    for row in csvreader:\n",
    "        records.append(row)\n",
    "\n",
    "\n",
    "\n",
    "#INSTRUCTIONS - The total number of months included in the dataset.\n",
    "\n",
    "print(f'Total Months:{len(records)}')\n",
    "\n",
    "\n",
    "\n",
    "#INSTRUCTIONS - The net total amount of Profit/Losses over the entire period.\n",
    "\n",
    "records_dict = {x[0]: x[1:] for x in records}\n",
    "print(values)\n",
    "\n",
    "#I could not figure out how to work with the dictionary values as ints\n",
    "print(f'Total Profit/Losses: {(tot_pnl)}')\n",
    "\n",
    "\n",
    "\n",
    "####I CAN'T FIGURE OUT HOW TO TURN THE STRINGS INTO INTS. I'VE TRIED:\n",
    "    #TYPE CASTING THE DICT\n",
    "    #TYPE CASTING WHEN IMPORTING THE CSV\n",
    "    #BREAKING OUT THE VALUE OF THE KEY AND CASTING IT TO AN INT\n",
    "\n",
    "    #I'VE LOOKED ALL OVER THE DOCS AND OTHER SOURCES -- I JUST CAN'T FIGURE IT OUT. IF I CAN'T TURN THOSE INTO INTS THAT I CAN MANIPULATE; THEN I CAN'T FINISH THE REST OF THE EXERCISE.\n",
    "\n",
    "    #TO ARRIVE AT THE ANSWER FOR THIS SECTION, I WOULD:\n",
    "    #SUM THE VALUES IN THE DICTIONARY\n",
    "\n",
    "\n",
    "\n",
    "#INSTRUCTIONS - The average of the changes in Profit/Losses over the entire period.\n",
    "\n",
    "    #TO ARRIVE AT THE ANSWER FOR THIS SECTION, I WOULD:\n",
    "    #SUM THE VALUES IN THE DICTIONARY; THEN PRINT THE SUM AMOUNT\n",
    "\n",
    "\n",
    "\n",
    "#INSTRUCTIONS - The greatest increase in profits (date and amount) over the entire period.\n",
    "\n",
    "    #TO ARRIVE AT THE ANSWER FOR THIS SECTION, I WOULD:\n",
    "    #LOOK FOR THE MAX VALUE; THEN PRINT THE DATE AND AMOUNT\n",
    "\n",
    "\n",
    "\n",
    "#INSTRUCTIONS - The greatest decrease in losses (date and amount) over the entire period.\n",
    "\n",
    "    #TO ARRIVE AT THE ANSWER FOR THIS SECTION, I WOULD:\n",
    "    # #LOOK FOR THE MIN VALUE; THEN PRINT THE DATE AND AMOUNT\n",
    "\n",
    "\n",
    "\n",
    "#INSTRUCTIONS - Your final script should print the analysis to the terminal and export a text file with the results.\n",
    "\n",
    "    #TO ARRIVE AT THE ANSWER FOR THIS SECTION, I WOULD:\n",
    "\n",
    "    f = open(\"results_analysis.txt\", \"a\")\n",
    "    f.write('Financial Analysis')\n",
    "    f.write('--------------------------------------')\n",
    "    f.write('Total Months:{len(records)}')\n",
    "    f.write('Total: {tot_pnl}')\n",
    "    f.write('Average Change: _______')\n",
    "    f.write('Greatest Increase in Profits: _____________')\n",
    "    f.write('Greatest Decrease in Profits: _____________')\n",
    "    f.close()\n",
    "\n"
   ]
  },
  {
   "cell_type": "code",
   "execution_count": null,
   "metadata": {},
   "outputs": [],
   "source": []
  },
  {
   "cell_type": "code",
   "execution_count": null,
   "metadata": {},
   "outputs": [],
   "source": []
  },
  {
   "cell_type": "code",
   "execution_count": null,
   "metadata": {},
   "outputs": [],
   "source": []
  },
  {
   "cell_type": "code",
   "execution_count": null,
   "metadata": {},
   "outputs": [],
   "source": []
  },
  {
   "cell_type": "code",
   "execution_count": null,
   "metadata": {},
   "outputs": [],
   "source": []
  },
  {
   "cell_type": "code",
   "execution_count": null,
   "metadata": {},
   "outputs": [],
   "source": []
  },
  {
   "cell_type": "code",
   "execution_count": null,
   "metadata": {},
   "outputs": [],
   "source": []
  },
  {
   "cell_type": "code",
   "execution_count": null,
   "metadata": {},
   "outputs": [],
   "source": []
  },
  {
   "cell_type": "code",
   "execution_count": null,
   "metadata": {},
   "outputs": [],
   "source": []
  },
  {
   "cell_type": "code",
   "execution_count": null,
   "metadata": {},
   "outputs": [],
   "source": []
  },
  {
   "cell_type": "code",
   "execution_count": null,
   "metadata": {},
   "outputs": [],
   "source": []
  },
  {
   "cell_type": "code",
   "execution_count": null,
   "metadata": {},
   "outputs": [],
   "source": []
  },
  {
   "cell_type": "code",
   "execution_count": null,
   "metadata": {},
   "outputs": [],
   "source": []
  },
  {
   "cell_type": "code",
   "execution_count": null,
   "metadata": {},
   "outputs": [],
   "source": []
  },
  {
   "cell_type": "code",
   "execution_count": null,
   "metadata": {},
   "outputs": [],
   "source": []
  },
  {
   "cell_type": "code",
   "execution_count": null,
   "metadata": {},
   "outputs": [],
   "source": []
  },
  {
   "cell_type": "code",
   "execution_count": null,
   "metadata": {},
   "outputs": [],
   "source": []
  },
  {
   "cell_type": "code",
   "execution_count": null,
   "metadata": {},
   "outputs": [],
   "source": []
  },
  {
   "cell_type": "code",
   "execution_count": null,
   "metadata": {},
   "outputs": [],
   "source": []
  },
  {
   "cell_type": "code",
   "execution_count": null,
   "metadata": {},
   "outputs": [],
   "source": []
  },
  {
   "cell_type": "code",
   "execution_count": null,
   "metadata": {},
   "outputs": [],
   "source": []
  }
 ]
}