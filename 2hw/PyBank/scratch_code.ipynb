{
 "metadata": {
  "language_info": {
   "codemirror_mode": {
    "name": "ipython",
    "version": 3
   },
   "file_extension": ".py",
   "mimetype": "text/x-python",
   "name": "python",
   "nbconvert_exporter": "python",
   "pygments_lexer": "ipython3",
   "version": "3.8.3-final"
  },
  "orig_nbformat": 2,
  "kernelspec": {
   "name": "Python 3.8.3 64-bit ('base': conda)",
   "display_name": "Python 3.8.3 64-bit ('base': conda)",
   "metadata": {
    "interpreter": {
     "hash": "1ce42f2a1b6c49df64617f43cb84098b959f9d3ffde7519dca872c4c98b39199"
    }
   }
  }
 },
 "nbformat": 4,
 "nbformat_minor": 2,
 "cells": [
  {
   "cell_type": "code",
   "execution_count": 9,
   "metadata": {
    "tags": []
   },
   "outputs": [
    {
     "output_type": "stream",
     "name": "stdout",
     "text": "87Date\nJan-2010\nFeb-2010\nMar-2010\nApr-2010\nMay-2010\nJun-2010\nJul-2010\nAug-2010\nSep-2010\nOct-2010\nNov-2010\nDec-2010\nJan-2011\nFeb-2011\nMar-2011\nApr-2011\nMay-2011\nJun-2011\nJul-2011\nAug-2011\nSep-2011\nOct-2011\nNov-2011\nDec-2011\nJan-2012\nFeb-2012\nMar-2012\nApr-2012\nMay-2012\nJun-2012\nJul-2012\nAug-2012\nSep-2012\nOct-2012\nNov-2012\nDec-2012\nJan-2013\nFeb-2013\nMar-2013\nApr-2013\nMay-2013\nJun-2013\nJul-2013\nAug-2013\nSep-2013\nOct-2013\nNov-2013\nDec-2013\nJan-2014\nFeb-2014\nMar-2014\nApr-2014\nMay-2014\nJun-2014\nJul-2014\nAug-2014\nSep-2014\nOct-2014\nNov-2014\nDec-2014\nJan-2015\nFeb-2015\nMar-2015\nApr-2015\nMay-2015\nJun-2015\nJul-2015\nAug-2015\nSep-2015\nOct-2015\nNov-2015\nDec-2015\nJan-2016\nFeb-2016\nMar-2016\nApr-2016\nMay-2016\nJun-2016\nJul-2016\nAug-2016\nSep-2016\nOct-2016\nNov-2016\nDec-2016\nJan-2017\nFeb-2017\n"
    },
    {
     "output_type": "execute_result",
     "data": {
      "text/plain": "'\\n\\nimport csv\\nwith open(\\'name.csv\\', \\'r\\') as csvfile:\\n    reader = csv.reader(csvfile, delimiter=\\',\\')\\n    for row in reader:\\n        print row\\n>>> import csv\\n>>> with open(\\'eggs.csv\\', newline=\\'\\') as csvfile:\\n...     spamreader = csv.reader(csvfile, delimiter=\\' \\', quotechar=\\'|\\')\\n...     for row in spamreader:\\n...         print(\\', \\'.join(row))\\nSpam, Spam, Spam, Spam, Spam, Baked Beans\\nSpam, Lovely Spam, Wonderful Spam\\n\\n\\n\\n\\n\\n\\n    Filepath = Path(“../Resources/accounting.csv”)\\nWith open(filepath, “r”) as csvfile:    #as file - this kind of nicknames the connection\\n\\t#print (type(csvfile))\\n\\tprint(csv.reader(cvfile))\\n\\n\\n#######\\nbank_account = 10000\\nif bank_account < 500:\\n    print(\"I need to get paid!\")\\nelse:\\n    print(\"We gon make it.\")\\n\\nprint(\"always prints\")\\n\\n\\naccident = Trueat_fault = False\\nif accident:\\n        if at_fault:\\n            if accident_forgiveness:\\n                increase_insurance _premium = False\\n        else:\\n            if elite_status:\\n                increase_insurance_premium = False\\n\\n#lists\\n\\nfruits = [\"apple\", \"mango\", \"banana, \"guanabana\", \"kiwi\", \"dragonfruit\"]\\n\\nprint(fruits[2:])\\nprtint(fruits[:4])\\n\\n#start:\\n#:end\\n#start:end:step\\n'"
     },
     "metadata": {},
     "execution_count": 9
    }
   ],
   "source": [
    "from pathlib import Path\n",
    "import csv\n",
    "import numpy_financial as npf\n",
    "\n",
    "#filepath = Path(\"Resources/budget_data.csv\")\n",
    "\n",
    "input_file = 'Resources/budget_data.csv'\n",
    "output_file = 'Resources/working_budget_data.csv'\n",
    "cols_to_remove = [0, 1] # Column indexes to be removed (starts at 0)\n",
    "\n",
    "cols_to_remove = sorted(cols_to_remove, reverse=True) # Reverse so we remove from the end first\n",
    "row_count = 0 # Current amount of rows processed\n",
    "\n",
    "with open(input_file, \"r\") as source:\n",
    "    reader = csv.reader(source)\n",
    "    with open(output_file, \"w\", newline='') as result:\n",
    "        writer = csv.writer(result)\n",
    "        for row in reader:\n",
    "            row_count += 1\n",
    "            print('\\r{0}'.format(row_count), end='') # Print rows processed\n",
    "            for col_index in cols_to_remove:\n",
    "                del row[col_index]\n",
    "            writer.writerow(row)\n",
    "\n",
    "working_file = Path(\"Resources/budget_data.csv\")\n",
    "with open(working_file, \"r\") as csvfile:\n",
    "    #print(type(csvfile))\n",
    "    #print(csv.reader(csvfile))\n",
    "    reader = csv.reader(csvfile, delimiter=',')\n",
    "    for row in reader:\n",
    "\t    print(row[0])\n",
    "\n",
    "#############\n",
    "#count_month = reader.len()\n",
    "#print (count_month)\n",
    "\n",
    "def calculate_tot_months(csvreader):\n",
    "    \"\"\"\n",
    "    Calculates the total number of months in the dataset.\n",
    "    Args:\n",
    "        reader: The dataset file\n",
    "    Returns:\n",
    "        tot_months (int): The number of months\n",
    "    \"\"\"\n",
    "    for row in csvreader:\n",
    "        row = row + 1\n",
    "    return tot_months\n",
    "\n",
    "calculate_tot_months(csvreader)\n",
    "\n",
    "#len(reader)\n",
    "\n",
    "row_count = sum(1 for row in fileObject)  # fileObject is your csv.reader\n",
    "\n",
    "#############\n",
    "\"\"\"\n",
    "\n",
    "import csv\n",
    "with open('name.csv', 'r') as csvfile:\n",
    "    reader = csv.reader(csvfile, delimiter=',')\n",
    "    for row in reader:\n",
    "        print row\n",
    ">>> import csv\n",
    ">>> with open('eggs.csv', newline='') as csvfile:\n",
    "...     spamreader = csv.reader(csvfile, delimiter=' ', quotechar='|')\n",
    "...     for row in spamreader:\n",
    "...         print(', '.join(row))\n",
    "Spam, Spam, Spam, Spam, Spam, Baked Beans\n",
    "Spam, Lovely Spam, Wonderful Spam\n",
    "\n",
    "\n",
    "\n",
    "\n",
    "\n",
    "\n",
    "    Filepath = Path(“../Resources/accounting.csv”)\n",
    "With open(filepath, “r”) as csvfile:    #as file - this kind of nicknames the connection\n",
    "\t#print (type(csvfile))\n",
    "\tprint(csv.reader(cvfile))\n",
    "\n",
    "\n",
    "#######\n",
    "bank_account = 10000\n",
    "if bank_account < 500:\n",
    "    print(\"I need to get paid!\")\n",
    "else:\n",
    "    print(\"We gon make it.\")\n",
    "\n",
    "print(\"always prints\")\n",
    "\n",
    "\n",
    "accident = Trueat_fault = False\n",
    "if accident:\n",
    "        if at_fault:\n",
    "            if accident_forgiveness:\n",
    "                increase_insurance _premium = False\n",
    "        else:\n",
    "            if elite_status:\n",
    "                increase_insurance_premium = False\n",
    "\n",
    "#lists\n",
    "\n",
    "fruits = [\"apple\", \"mango\", \"banana, \"guanabana\", \"kiwi\", \"dragonfruit\"]\n",
    "\n",
    "print(fruits[2:])\n",
    "prtint(fruits[:4])\n",
    "\n",
    "#start:\n",
    "#:end\n",
    "#start:end:step\n",
    "\"\"\"\n"
   ]
  },
  {
   "cell_type": "code",
   "execution_count": null,
   "metadata": {},
   "outputs": [],
   "source": []
  },
  {
   "cell_type": "code",
   "execution_count": null,
   "metadata": {},
   "outputs": [],
   "source": []
  },
  {
   "cell_type": "code",
   "execution_count": null,
   "metadata": {},
   "outputs": [],
   "source": []
  },
  {
   "cell_type": "code",
   "execution_count": null,
   "metadata": {},
   "outputs": [],
   "source": []
  },
  {
   "cell_type": "code",
   "execution_count": null,
   "metadata": {},
   "outputs": [],
   "source": []
  },
  {
   "cell_type": "code",
   "execution_count": null,
   "metadata": {},
   "outputs": [],
   "source": []
  },
  {
   "cell_type": "code",
   "execution_count": null,
   "metadata": {},
   "outputs": [],
   "source": []
  },
  {
   "cell_type": "code",
   "execution_count": null,
   "metadata": {},
   "outputs": [],
   "source": []
  },
  {
   "cell_type": "code",
   "execution_count": null,
   "metadata": {},
   "outputs": [],
   "source": []
  },
  {
   "cell_type": "code",
   "execution_count": null,
   "metadata": {},
   "outputs": [],
   "source": []
  },
  {
   "cell_type": "code",
   "execution_count": null,
   "metadata": {},
   "outputs": [],
   "source": []
  }
 ]
}